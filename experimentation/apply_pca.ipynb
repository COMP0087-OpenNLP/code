{
 "cells": [
  {
   "cell_type": "markdown",
   "metadata": {},
   "source": [
    "Libraries"
   ]
  },
  {
   "cell_type": "code",
   "execution_count": 1,
   "metadata": {},
   "outputs": [],
   "source": [
    "\n",
    "import numpy as np\n",
    "import itertools\n",
    "import datasets\n",
    "import pandas as pd\n",
    "import os\n",
    "from tqdm import tqdm"
   ]
  },
  {
   "cell_type": "markdown",
   "metadata": {},
   "source": [
    "Retrieving models locally saved"
   ]
  },
  {
   "cell_type": "code",
   "execution_count": 2,
   "metadata": {},
   "outputs": [],
   "source": [
    "BASIC_MODELS = os.listdir('data')\n",
    "BASIC_MODELS.remove(\"sentences\")"
   ]
  },
  {
   "cell_type": "markdown",
   "metadata": {},
   "source": [
    "STS Dataset"
   ]
  },
  {
   "cell_type": "code",
   "execution_count": 3,
   "metadata": {},
   "outputs": [],
   "source": [
    "TASK_LIST_STS = [\n",
    "    \"SICK-R\",\n",
    "    \"STS12\",\n",
    "    \"STS13\",\n",
    "    \"STS14\",\n",
    "    \"STS15\",\n",
    "    \"STS16\",\n",
    "    \"STS17\",\n",
    "    \"STS22\",\n",
    "    \"STSBenchmark\",\n",
    "    \"BIOSSES\",\n",
    "]"
   ]
  },
  {
   "cell_type": "code",
   "execution_count": 4,
   "metadata": {},
   "outputs": [],
   "source": [
    "def PCA2(data, dims_rescaled_data=2):\n",
    "    \"\"\"\n",
    "    returns: data transformed in 2 dims/columns + regenerated original data\n",
    "    pass in: data as 2D NumPy array\n",
    "    \"\"\"\n",
    "    import numpy as NP\n",
    "    from scipy import linalg as LA\n",
    "    m, n = data.shape\n",
    "    # mean center the data\n",
    "    data -= data.mean(axis=0)\n",
    "    # calculate the covariance matrix\n",
    "    R = NP.cov(data, rowvar=False)\n",
    "    # calculate eigenvectors & eigenvalues of the covariance matrix\n",
    "    # use 'eigh' rather than 'eig' since R is symmetric,\n",
    "    # the performance gain is substantial\n",
    "    evals, evecs = LA.eigh(R)\n",
    "    # sort eigenvalue in decreasing order\n",
    "    idx = NP.argsort(evals)[::-1]\n",
    "    evecs = evecs[:,idx]\n",
    "    # sort eigenvectors according to same index\n",
    "    evals = evals[idx]\n",
    "    # select the first n eigenvectors (n is desired dimension\n",
    "    # of rescaled data array, or dims_rescaled_data)\n",
    "    evecs = evecs[:, :dims_rescaled_data]\n",
    "    # carry out the transformation on the data using eigenvectors\n",
    "    # and return the re-scaled data, eigenvalues, and eigenvectors\n",
    "    return NP.dot(evecs.T, data.T).T, evals, evecs"
   ]
  },
  {
   "cell_type": "markdown",
   "metadata": {},
   "source": [
    "saving PCA embeddings of size 1024"
   ]
  },
  {
   "cell_type": "code",
   "execution_count": 6,
   "metadata": {},
   "outputs": [
    {
     "name": "stderr",
     "output_type": "stream",
     "text": [
      "100%|██████████| 4/4 [00:01<00:00,  3.87it/s]\n"
     ]
    }
   ],
   "source": [
    "max_stack_size = len(BASIC_MODELS)\n",
    "\n",
    "# Generate stacked model of all sizes\n",
    "for r in tqdm(range(2, min(max_stack_size + 1, len(BASIC_MODELS) + 1))):\n",
    "    combinations_object = itertools.combinations(BASIC_MODELS, r)\n",
    "    combinations_list = [sorted(list(combination)) for combination in combinations_object] # Sort to ensure the same combination is always the same\n",
    "    \n",
    "    for combination in combinations_list:\n",
    "        concat_model = \"$\".join(combination)\n",
    "        for task in TASK_LIST_STS:\n",
    "            # if computed, skip\n",
    "            path = f\"data_pca/{concat_model}/{task}\"\n",
    "            if (os.path.exists(path)):\n",
    "                continue\n",
    "            \n",
    "            # get the embeddings for each task from the different models\n",
    "            task_embeddings = []\n",
    "            for model in combination:\n",
    "                model_dataset = datasets.load_from_disk(f\"data/{model}/{task}\")\n",
    "                # rename column (to avoid duplicate 'embeddings' column name)\n",
    "                model_dataset = model_dataset.rename_column(\"embeddings\", f\"embeddings_{model}\")\n",
    "                task_embeddings.append(model_dataset)\n",
    "            \n",
    "            ds = datasets.concatenate_datasets(task_embeddings, axis = 1)\n",
    "            df = ds.to_pandas()\n",
    "            concat_model = \"$\".join(combination)\n",
    "            df[concat_model] = df.apply(lambda row: np.concatenate([row[f\"embeddings_{model}\"] for model in combination]), axis = 1)\n",
    "            df = df[concat_model]\n",
    "            \n",
    "            # number of samples must be at least the number of dimensions\n",
    "            if len(df) < 1024:\n",
    "                continue\n",
    "            \n",
    "            # PCA\n",
    "            data = np.array(df.tolist())\n",
    "            new_data, _, _ = PCA2(data, dims_rescaled_data=1024)\n",
    "            \n",
    "            # save to data_pca\n",
    "            dataset = datasets.Dataset.from_dict({\"embeddings\": new_data})\n",
    "            dataset.save_to_disk(path, max_shard_size=\"75MB\")"
   ]
  },
  {
   "cell_type": "code",
   "execution_count": null,
   "metadata": {},
   "outputs": [],
   "source": []
  }
 ],
 "metadata": {
  "kernelspec": {
   "display_name": "SNLP",
   "language": "python",
   "name": "python3"
  },
  "language_info": {
   "codemirror_mode": {
    "name": "ipython",
    "version": 3
   },
   "file_extension": ".py",
   "mimetype": "text/x-python",
   "name": "python",
   "nbconvert_exporter": "python",
   "pygments_lexer": "ipython3",
   "version": "3.12.2"
  }
 },
 "nbformat": 4,
 "nbformat_minor": 2
}
