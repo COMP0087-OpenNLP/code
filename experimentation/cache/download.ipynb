{
 "cells": [
  {
   "cell_type": "code",
   "execution_count": 1,
   "metadata": {},
   "outputs": [],
   "source": [
    "from datasetlist import download"
   ]
  },
  {
   "cell_type": "code",
   "execution_count": 2,
   "metadata": {},
   "outputs": [
    {
     "name": "stdout",
     "output_type": "stream",
     "text": [
      "AmazonCounterfactualClassification already downloaded, skipping...\n",
      "TwitterURLCorpus already downloaded, skipping...\n",
      "AskUbuntuDupQuestions already downloaded, skipping...\n",
      "NFCorpus already downloaded, skipping...\n",
      "BIOSSES already downloaded, skipping...\n",
      "SICK-R already downloaded, skipping...\n",
      "STS12 already downloaded, skipping...\n",
      "STS13 already downloaded, skipping...\n",
      "STS14 already downloaded, skipping...\n",
      "STS15 already downloaded, skipping...\n",
      "STS16 already downloaded, skipping...\n",
      "STS17 already downloaded, skipping...\n",
      "STS22 already downloaded, skipping...\n",
      "STSBenchmark already downloaded, skipping...\n"
     ]
    }
   ],
   "source": [
    "download()"
   ]
  },
  {
   "cell_type": "code",
   "execution_count": null,
   "metadata": {},
   "outputs": [],
   "source": []
  }
 ],
 "metadata": {
  "kernelspec": {
   "display_name": "Python 3",
   "language": "python",
   "name": "python3"
  },
  "language_info": {
   "codemirror_mode": {
    "name": "ipython",
    "version": 3
   },
   "file_extension": ".py",
   "mimetype": "text/x-python",
   "name": "python",
   "nbconvert_exporter": "python",
   "pygments_lexer": "ipython3",
   "version": "3.12.2"
  }
 },
 "nbformat": 4,
 "nbformat_minor": 2
}
