{
 "cells": [
  {
   "cell_type": "code",
   "execution_count": 22,
   "metadata": {},
   "outputs": [],
   "source": [
    "import numpy as np\n",
    "import itertools\n",
    "import datasets\n",
    "import pandas as pd\n",
    "import os\n",
    "from tqdm import tqdm\n",
    "from abc import ABC, abstractmethod\n",
    "from results_to_csv import main as convert_to_csv\n",
    "from mteb import MTEB\n",
    "from model_factory import model_factory\n",
    "from sklearn.decomposition import PCA\n",
    "import pickle as pk"
   ]
  },
  {
   "cell_type": "code",
   "execution_count": 23,
   "metadata": {},
   "outputs": [],
   "source": [
    "import logging\n",
    "\n",
    "def setup_logger(name, log_file, level=logging.INFO):\n",
    "    \"\"\"Function to setup a logger for a given name and file.\"\"\"\n",
    "    if not os.path.exists(os.path.dirname(log_file)):\n",
    "        os.makedirs(os.path.dirname(log_file))\n",
    "        \n",
    "    logger = logging.getLogger(name)\n",
    "    if not logger.handlers:  # Only add handler if there are no existing handlers\n",
    "        handler = logging.FileHandler(log_file)    \n",
    "        logger.setLevel(level)\n",
    "        logger.addHandler(handler)\n",
    "    \n",
    "    return logger"
   ]
  },
  {
   "cell_type": "markdown",
   "metadata": {},
   "source": [
    "## Model List"
   ]
  },
  {
   "cell_type": "code",
   "execution_count": 24,
   "metadata": {},
   "outputs": [],
   "source": [
    "BASIC_MODELS = os.listdir('data')\n",
    "BASIC_MODELS.remove(\"sentences\")"
   ]
  },
  {
   "cell_type": "markdown",
   "metadata": {},
   "source": [
    "## Task List"
   ]
  },
  {
   "cell_type": "code",
   "execution_count": 25,
   "metadata": {},
   "outputs": [],
   "source": [
    "from run_utils import TASK_LIST"
   ]
  },
  {
   "cell_type": "code",
   "execution_count": 26,
   "metadata": {},
   "outputs": [],
   "source": [
    "ndims_list = [256, 512, 768, 896, 1024]"
   ]
  },
  {
   "cell_type": "markdown",
   "metadata": {},
   "source": [
    "## Generating PCA Functions"
   ]
  },
  {
   "cell_type": "code",
   "execution_count": 8,
   "metadata": {},
   "outputs": [
    {
     "name": "stderr",
     "output_type": "stream",
     "text": [
      "Repo card metadata block was not found. Setting CardData to empty.\n",
      "Repo card metadata block was not found. Setting CardData to empty.\n"
     ]
    }
   ],
   "source": [
    "%%capture \n",
    "# supressing output\n",
    "\n",
    "all_sentences = {}\n",
    "\n",
    "for dataset in TASK_LIST:\n",
    "    mteb = MTEB(tasks = [dataset], task_langs=[\"en\"], trust_remote_code=True)\n",
    "    task = mteb.tasks[0]\n",
    "    task.load_data()\n",
    "    if task.dataset is None:\n",
    "        print(f\"{dataset} has no dataset. Skipping...\")\n",
    "        continue\n",
    "    print(f\"{dataset} has these splits: {task.dataset.keys()}\")\n",
    "\n",
    "    if (train:= \"train\" not in task.dataset.keys()) and (validation := \"validation\" not in task.dataset.keys()):\n",
    "        print(f\"{dataset} has no train or validation split. Skipping...\")\n",
    "        continue\n",
    "    \n",
    "    all_sentences[dataset] = []\n",
    "    if not train:\n",
    "        if \"text\" in task.dataset[\"train\"].column_names: \n",
    "            all_sentences[dataset] += task.dataset[\"train\"][\"text\"]\n",
    "        if \"sentence1\" in task.dataset[\"train\"].column_names:\n",
    "            all_sentences[dataset] += task.dataset[\"train\"][\"sentence1\"]\n",
    "        if \"sentence2\" in task.dataset[\"train\"].column_names:\n",
    "            all_sentences[dataset] += task.dataset[\"train\"][\"sentence2\"]\n",
    "    if not validation:\n",
    "        if \"text\" in task.dataset[\"validation\"].column_names: \n",
    "            all_sentences[dataset] += task.dataset[\"validation\"][\"text\"]\n",
    "        if \"sentence1\" in task.dataset[\"validation\"].column_names:\n",
    "            all_sentences[dataset] += task.dataset[\"validation\"][\"sentence1\"]\n",
    "        if \"sentence2\" in task.dataset[\"validation\"].column_names:\n",
    "            all_sentences[dataset] += task.dataset[\"validation\"][\"sentence2\"]"
   ]
  },
  {
   "cell_type": "code",
   "execution_count": null,
   "metadata": {},
   "outputs": [],
   "source": [
    "%%capture\n",
    "# suppresing output\n",
    "\n",
    "script_logger = setup_logger(\"Generating PCA\", f\"pca/logs.txt\")\n",
    "\n",
    "for ndims in ndims_list:\n",
    "    script_logger.info(f\"\\n\\nStarting PCA for {ndims} dimensions\")\n",
    "    \n",
    "    # creating directory\n",
    "    path = f\"pca/{ndims}\"\n",
    "    if not os.path.exists(path):\n",
    "        os.makedirs(path)\n",
    "    \n",
    "    # generating PCA for all combinations of models\n",
    "    for r in range(1, len(BASIC_MODELS) + 1):\n",
    "        combinations_object = itertools.combinations(BASIC_MODELS, r)\n",
    "        combinations_list = [sorted(list(combination)) for combination in combinations_object]\n",
    "        \n",
    "        # generating PCA for each combination\n",
    "        for combination in combinations_list:\n",
    "            model_name = \"$\".join(combination)\n",
    "            script_logger.info(f\"<--> Starting PCA for {model_name}!\")\n",
    "            \n",
    "            # if model alr exists\n",
    "            if os.path.exists(f\"{path}/{model_name}.pkl\"):\n",
    "                script_logger.info(f\"PCA for {model_name} already exists. Skipping...\")\n",
    "                continue\n",
    "            \n",
    "            # retrieving embeddings\n",
    "            all_embeddings = []\n",
    "            for task in all_sentences.keys():\n",
    "                model = model_factory(model_name, task)\n",
    "                embeddings = model.encode(all_sentences[task])\n",
    "                all_embeddings += embeddings\n",
    "            script_logger.info(f\"Retrieved embeddings for {model_name}\")\n",
    "            \n",
    "            # PCA\n",
    "            script_logger.info(f\"Fitting PCA for {model_name}\")\n",
    "            pca = PCA(n_components= ndims)\n",
    "            pca.fit_transform(all_embeddings)\n",
    "            \n",
    "            # Saving PCA\n",
    "            script_logger.info(f\"Saving PCA for {model_name}\")\n",
    "            pk.dump(pca, open(f\"{path}/{model_name}.pkl\", \"wb\"))"
   ]
  },
  {
   "cell_type": "markdown",
   "metadata": {},
   "source": [
    "## Evaluating Stacked Model with PCA"
   ]
  },
  {
   "cell_type": "code",
   "execution_count": 27,
   "metadata": {},
   "outputs": [],
   "source": [
    "def evaluate_model(model_name: str, ndims: int):\n",
    "    script_logger = setup_logger(f\"eval_models_{ndims}\", f\"results_pca/{ndims}/logs.txt\")\n",
    "    \n",
    "    for task in TASK_LIST:\n",
    "        # if model has already been evaluated\n",
    "        if os.path.exists(f\"results_pca/{ndims}/{model_name}/{task}.json\"):\n",
    "            script_logger.info(f\"{model_name} has already been evaluated for {task}. Skipping...\")\n",
    "            continue\n",
    "        \n",
    "        # get stacked model\n",
    "        model = model_factory(model_name + \"-pca\", task, ndims= ndims)\n",
    "        \n",
    "        script_logger.info(f\"Evaluating {model_name} on {task}\")\n",
    "        evaluation = MTEB(tasks = [task], task_langs=[\"en\"])\n",
    "        evaluation.run(model, output_folder=f\"results_pca/{ndims}/{model_name}\", eval_splits=[\"test\"])\n",
    "\n",
    "    if os.path.exists(f\"results_pca/{ndims}/{model_name}_results.csv\"):\n",
    "        script_logger.info(f\"Results for {model_name} already converted to csv. Skipping...\")\n",
    "    elif os.path.exists(f\"results_pca/{ndims}/{model_name}\"):\n",
    "        script_logger.info(f\"Converting results to csv for {model_name}\")\n",
    "        convert_to_csv(f\"results_pca/{ndims}/{model_name}\")\n",
    "    else:\n",
    "        script_logger.info(f\"No results found for {model_name}. Skipping...\")\n",
    "        \n",
    "    script_logger.info(f\"Finished evaluating {model_name} for all tasks\\n\\n\")"
   ]
  },
  {
   "cell_type": "code",
   "execution_count": 28,
   "metadata": {},
   "outputs": [],
   "source": [
    "def evaluate_models(ndims: int):\n",
    "    script_logger = setup_logger(f\"eval_models_{ndims}\", f\"results_pca/{ndims}/logs.txt\")\n",
    "    for r in range(1, len(BASIC_MODELS) + 1):\n",
    "        combinations_object = itertools.combinations(BASIC_MODELS, r)\n",
    "        combinations_list = [sorted(list(combination)) for combination in combinations_object]\n",
    "        \n",
    "        for combination in combinations_list:\n",
    "            model_name = \"$\".join(combination)\n",
    "            script_logger.info(f\"Starting evaluation for {model_name}\")\n",
    "            evaluate_model(model_name, ndims)"
   ]
  },
  {
   "cell_type": "code",
   "execution_count": null,
   "metadata": {},
   "outputs": [],
   "source": [
    "for ndims in ndims_list:\n",
    "    evaluate_models(ndims)"
   ]
  },
  {
   "cell_type": "code",
   "execution_count": null,
   "metadata": {},
   "outputs": [],
   "source": []
  }
 ],
 "metadata": {
  "kernelspec": {
   "display_name": "SNLP",
   "language": "python",
   "name": "python3"
  },
  "language_info": {
   "codemirror_mode": {
    "name": "ipython",
    "version": 3
   },
   "file_extension": ".py",
   "mimetype": "text/x-python",
   "name": "python",
   "nbconvert_exporter": "python",
   "pygments_lexer": "ipython3",
   "version": "3.12.2"
  }
 },
 "nbformat": 4,
 "nbformat_minor": 2
}
