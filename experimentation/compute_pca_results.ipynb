{
 "cells": [
  {
   "cell_type": "code",
   "execution_count": null,
   "metadata": {},
   "outputs": [],
   "source": [
    "import numpy as np\n",
    "import itertools\n",
    "import datasets\n",
    "import pandas as pd\n",
    "import os\n",
    "from tqdm import tqdm\n",
    "from abc import ABC, abstractmethod\n",
    "from results_to_csv import main as convert_to_csv\n",
    "from mteb import MTEB\n",
    "from model_factory import model_factory"
   ]
  },
  {
   "cell_type": "code",
   "execution_count": null,
   "metadata": {},
   "outputs": [],
   "source": [
    "BASIC_MODELS = os.listdir('data')\n",
    "BASIC_MODELS.remove(\"sentences\")"
   ]
  },
  {
   "cell_type": "code",
   "execution_count": null,
   "metadata": {},
   "outputs": [],
   "source": [
    "TASK_LIST_STS = [\n",
    "    \"SICK-R\",\n",
    "    \"STS12\",\n",
    "    \"STS13\",\n",
    "    \"STS14\",\n",
    "    \"STS15\",\n",
    "    \"STS16\",\n",
    "    \"STS17\",\n",
    "    \"STS22\",\n",
    "    \"STSBenchmark\",\n",
    "    \"BIOSSES\",\n",
    "]"
   ]
  },
  {
   "cell_type": "code",
   "execution_count": null,
   "metadata": {},
   "outputs": [],
   "source": [
    "def PCA2(data, dims_rescaled_data=2):\n",
    "    \"\"\"\n",
    "    returns: data transformed in 2 dims/columns + regenerated original data\n",
    "    pass in: data as 2D NumPy array\n",
    "    \"\"\"\n",
    "    import numpy as NP\n",
    "    from scipy import linalg as LA\n",
    "    m, n = data.shape\n",
    "    # mean center the data\n",
    "    data -= data.mean(axis=0)\n",
    "    # calculate the covariance matrix\n",
    "    R = NP.cov(data, rowvar=False)\n",
    "    # calculate eigenvectors & eigenvalues of the covariance matrix\n",
    "    # use 'eigh' rather than 'eig' since R is symmetric,\n",
    "    # the performance gain is substantial\n",
    "    evals, evecs = LA.eigh(R)\n",
    "    # sort eigenvalue in decreasing order\n",
    "    idx = NP.argsort(evals)[::-1]\n",
    "    evecs = evecs[:,idx]\n",
    "    # sort eigenvectors according to same index\n",
    "    evals = evals[idx]\n",
    "    # select the first n eigenvectors (n is desired dimension\n",
    "    # of rescaled data array, or dims_rescaled_data)\n",
    "    evecs = evecs[:, :dims_rescaled_data]\n",
    "    # carry out the transformation on the data using eigenvectors\n",
    "    # and return the re-scaled data, eigenvalues, and eigenvectors\n",
    "    return NP.dot(evecs.T, data.T).T, evals, evecs"
   ]
  },
  {
   "cell_type": "code",
   "execution_count": null,
   "metadata": {},
   "outputs": [],
   "source": [
    "def generate_pca(ndims):\n",
    "    # Generate stacked model of all sizes\n",
    "    for r in range(1, len(BASIC_MODELS) + 1):\n",
    "        combinations_object = itertools.combinations(BASIC_MODELS, r)\n",
    "        combinations_list = [sorted(list(combination)) for combination in combinations_object] # Sort to ensure the same combination is always the same\n",
    "        \n",
    "        for combination in combinations_list:\n",
    "            concat_model = \"$\".join(combination)\n",
    "            for task in TASK_LIST_STS:\n",
    "                # if computed, skip\n",
    "                path = f\"data_pca/{ndims}/{concat_model}/{task}\"\n",
    "                if (os.path.exists(path)):\n",
    "                    continue\n",
    "                \n",
    "                # get the embeddings for each task from the different models\n",
    "                task_embeddings = []\n",
    "                for model in combination:\n",
    "                    model_dataset = datasets.load_from_disk(f\"data/{model}/{task}\")\n",
    "                    \n",
    "                    # normalise embeddings in dataset\n",
    "                    model_dataset = model_dataset.map(lambda x: {'embeddings': x['embeddings'] / np.linalg.norm(x['embeddings'])})\n",
    "                    \n",
    "                    # rename column (to avoid duplicate 'embeddings' column name)\n",
    "                    model_dataset = model_dataset.rename_column(\"embeddings\", f\"embeddings_{model}\")\n",
    "                    task_embeddings.append(model_dataset)\n",
    "                \n",
    "                ds = datasets.concatenate_datasets(task_embeddings, axis = 1)\n",
    "                df = ds.to_pandas()\n",
    "                concat_model = \"$\".join(combination)\n",
    "                df[concat_model] = df.apply(lambda row: np.concatenate([row[f\"embeddings_{model}\"] for model in combination]), axis = 1)\n",
    "                df = df[concat_model]\n",
    "                \n",
    "                # number of samples must be at least the number of dimensions\n",
    "                if len(df) < ndims:\n",
    "                    continue\n",
    "                \n",
    "                # PCA\n",
    "                data = np.array(df.tolist())\n",
    "                new_data, _, _ = PCA2(data, dims_rescaled_data=ndims)\n",
    "                \n",
    "                # save to dir\n",
    "                dataset = datasets.Dataset.from_dict({\"embeddings\": new_data})\n",
    "                dataset.save_to_disk(path, max_shard_size=\"75MB\")"
   ]
  },
  {
   "cell_type": "code",
   "execution_count": null,
   "metadata": {},
   "outputs": [],
   "source": [
    "ndims_list = [256, 512, 768, 896, 1024]"
   ]
  },
  {
   "cell_type": "code",
   "execution_count": null,
   "metadata": {},
   "outputs": [],
   "source": [
    "for ndims in ndims_list:\n",
    "    generate_pca(ndims)"
   ]
  },
  {
   "cell_type": "markdown",
   "metadata": {},
   "source": [
    "## Computing Results"
   ]
  },
  {
   "cell_type": "code",
   "execution_count": null,
   "metadata": {},
   "outputs": [],
   "source": [
    "MODELS = os.listdir('data_pca/1024')"
   ]
  },
  {
   "cell_type": "markdown",
   "metadata": {},
   "source": [
    "PCA Model Class"
   ]
  },
  {
   "cell_type": "code",
   "execution_count": null,
   "metadata": {},
   "outputs": [],
   "source": [
    "class AbstractModel(ABC):\n",
    "    \n",
    "    def __init__(self, model_name: str, task_name: str): # The task name is needed for caching\n",
    "        self.model_name = model_name\n",
    "        self.task_name = task_name\n",
    "\n",
    "    @abstractmethod\n",
    "    def encode(self, sentences, batch_size=32, **kwargs):\n",
    "        \"\"\"\n",
    "        Returns a list of embeddings for the given sentences.\n",
    "\n",
    "        NOTE: The vectors should be normalized to unit length (L2 norm)\n",
    "\n",
    "        Args:\n",
    "            sentences (`List[str]`): List of sentences to encode\n",
    "            batch_size (`int`): Batch size for the encoding\n",
    "\n",
    "        Returns:\n",
    "            `List[np.ndarray]` or `List[tensor]`: List of embeddings for the given sentences\n",
    "        \"\"\"\n",
    "        pass"
   ]
  },
  {
   "cell_type": "code",
   "execution_count": null,
   "metadata": {},
   "outputs": [],
   "source": [
    "class PCAModel(AbstractModel):\n",
    "    def __init__(self, model_name: str, task_name: str, ndims: int):\n",
    "        super().__init__(model_name, task_name)\n",
    "        main: datasets.Dataset = datasets.load_from_disk(f\"data/sentences/{self.task_name}\")\n",
    "        embeddings: datasets.Dataset = datasets.load_from_disk(f\"data_pca/{ndims}/{model_name}/{self.task_name}\")\n",
    "        \n",
    "        ds = datasets.concatenate_datasets([main, embeddings], axis=1)\n",
    "        self.df = ds.to_pandas().drop_duplicates(subset=[\"text\"]).set_index(\"text\")\n",
    "\n",
    "    def encode(self, sentences, batch_size=32, **kwargs):\n",
    "        embeddings = self.df.loc[sentences][\"embeddings\"].values\n",
    "        return np.vstack(embeddings)"
   ]
  },
  {
   "cell_type": "markdown",
   "metadata": {},
   "source": [
    "Custom Logging"
   ]
  },
  {
   "cell_type": "code",
   "execution_count": null,
   "metadata": {},
   "outputs": [],
   "source": [
    "import logging\n",
    "\n",
    "def setup_logger(name, log_file, level=logging.INFO):\n",
    "    \"\"\"Function to setup a logger for a given name and file.\"\"\"\n",
    "    if not os.path.exists(os.path.dirname(log_file)):\n",
    "        os.makedirs(os.path.dirname(log_file))\n",
    "    handler = logging.FileHandler(log_file)    \n",
    "    logger = logging.getLogger(name)\n",
    "    logger.setLevel(level)\n",
    "    logger.addHandler(handler)\n",
    "    \n",
    "    return logger"
   ]
  },
  {
   "cell_type": "markdown",
   "metadata": {},
   "source": [
    "Computing results"
   ]
  },
  {
   "cell_type": "code",
   "execution_count": null,
   "metadata": {},
   "outputs": [],
   "source": [
    "def evaluate_model(model_name, ndims):\n",
    "    script_logger = setup_logger(model_name, f\"logs_pca/{ndims}/{model_name}_log.txt\")\n",
    "    script_logger.info(f\"Starting evaluation for {model_name} reduced to {ndims} dimensions\")\n",
    "    \n",
    "    for task in TASK_LIST_STS:\n",
    "        # if results have already been computed, skip\n",
    "        if os.path.exists(f\"results_pca/{ndims}/{model_name}/{task}.json\"):\n",
    "            script_logger.info(f\"Skipping {task} as it already exists\")\n",
    "            continue\n",
    "        \n",
    "        script_logger.info(f\"Running Task: {task}\")\n",
    "        \n",
    "        # if embeddings have not been computed, skip\n",
    "        if not os.path.exists(f\"data_pca/{ndims}/{model_name}/{task}\"):\n",
    "            script_logger.info(f\"Skipping {task} as embeddings have not been computed\")\n",
    "            continue\n",
    "        \n",
    "        # loading the model\n",
    "        if (\"$\" in model_name): # if the model is not a PCA model\n",
    "            model = PCAModel(model_name, task, ndims)\n",
    "        else:\n",
    "            model = model_factory(model_name, task)\n",
    "        \n",
    "        # eval_splits = [\"dev\"] if task == \"MSMARCO\" else [\"test\"]\n",
    "        evaluation = MTEB(tasks=[task], task_langs=[\"en\"])\n",
    "        evaluation.run(model, output_folder=f\"results_pca/{ndims}/{model_name}\", eval_splits= [\"test\"])\n",
    "    \n",
    "    if os.path.exists(f\"results_pca/{ndims}/{model_name}\"):\n",
    "        script_logger.info(\"Converting the results to a CSV file...\")\n",
    "        convert_to_csv(f\"results_pca/{ndims}/{model_name}\")\n",
    "    \n",
    "    script_logger.info(\"-- DONE --\")\n",
    "    logging.shutdown()\n",
    "\n",
    "def evaluate_models(ndims):\n",
    "    print(f\"Num models to be evaluated: {len(MODELS)}\")\n",
    "    for model_name in MODELS:\n",
    "        evaluate_model(model_name, ndims)"
   ]
  },
  {
   "cell_type": "code",
   "execution_count": null,
   "metadata": {},
   "outputs": [],
   "source": [
    "ndims_list = os.listdir('data_pca')\n",
    "ndims_list.remove(\".git\")\n",
    "ndims_list.remove(\"push.sh\")"
   ]
  },
  {
   "cell_type": "code",
   "execution_count": null,
   "metadata": {},
   "outputs": [],
   "source": [
    "for ndims in ndims_list:\n",
    "    evaluate_models(ndims)"
   ]
  },
  {
   "cell_type": "code",
   "execution_count": null,
   "metadata": {},
   "outputs": [],
   "source": []
  }
 ],
 "metadata": {
  "kernelspec": {
   "display_name": "SNLP",
   "language": "python",
   "name": "python3"
  },
  "language_info": {
   "codemirror_mode": {
    "name": "ipython",
    "version": 3
   },
   "file_extension": ".py",
   "mimetype": "text/x-python",
   "name": "python",
   "nbconvert_exporter": "python",
   "pygments_lexer": "ipython3",
   "version": "3.12.2"
  }
 },
 "nbformat": 4,
 "nbformat_minor": 2
}
