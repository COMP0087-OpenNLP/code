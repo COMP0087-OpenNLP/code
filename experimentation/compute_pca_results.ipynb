{
 "cells": [
  {
   "cell_type": "code",
   "execution_count": 1,
   "metadata": {},
   "outputs": [],
   "source": [
    "import numpy as np\n",
    "import itertools\n",
    "import datasets\n",
    "import pandas as pd\n",
    "import os\n",
    "from tqdm import tqdm\n",
    "from abc import ABC, abstractmethod\n",
    "from results_to_csv import main as convert_to_csv\n",
    "from mteb import MTEB\n",
    "from model_factory import model_factory"
   ]
  },
  {
   "cell_type": "code",
   "execution_count": 2,
   "metadata": {},
   "outputs": [],
   "source": [
    "import logging\n",
    "\n",
    "def setup_logger(name, log_file, level=logging.INFO):\n",
    "    \"\"\"Function to setup a logger for a given name and file.\"\"\"\n",
    "    if not os.path.exists(os.path.dirname(log_file)):\n",
    "        os.makedirs(os.path.dirname(log_file))\n",
    "    \n",
    "    logger = logging.getLogger(name)\n",
    "    if not logger.handlers:  # Only add handler if there are no existing handlers\n",
    "        handler = logging.FileHandler(log_file)    \n",
    "        logger.setLevel(level)\n",
    "        logger.addHandler(handler)\n",
    "    \n",
    "    return logger"
   ]
  },
  {
   "cell_type": "code",
   "execution_count": 3,
   "metadata": {},
   "outputs": [],
   "source": [
    "BASIC_MODELS = os.listdir('data')\n",
    "BASIC_MODELS.remove(\"sentences\")"
   ]
  },
  {
   "cell_type": "code",
   "execution_count": 4,
   "metadata": {},
   "outputs": [],
   "source": [
    "TASK_LIST_CLASSIFICATION = [\n",
    "    \"AmazonCounterfactualClassification\",\n",
    "    # \"AmazonPolarityClassification\",\n",
    "    # \"AmazonReviewsClassification\",\n",
    "    \"Banking77Classification\",\n",
    "    \"EmotionClassification\",\n",
    "    # \"ImdbClassification\",\n",
    "    # \"MassiveIntentClassification\",\n",
    "    # \"MassiveScenarioClassification\",\n",
    "    # \"MTOPDomainClassification\",\n",
    "    # \"MTOPIntentClassification\",\n",
    "    # \"ToxicConversationsClassification\",\n",
    "    # \"TweetSentimentExtractionClassification\",\n",
    "]\n",
    "\n",
    "TASK_LIST_CLUSTERING = [\n",
    "    # \"ArxivClusteringP2P\",\n",
    "    \"ArxivClusteringS2S\",\n",
    "    # \"BiorxivClusteringP2P\",\n",
    "    # \"BiorxivClusteringS2S\",\n",
    "    # \"MedrxivClusteringP2P\",\n",
    "    # \"MedrxivClusteringS2S\",\n",
    "    \"RedditClustering\",\n",
    "    # \"RedditClusteringP2P\",\n",
    "    # \"StackExchangeClustering\",\n",
    "    # \"StackExchangeClusteringP2P\",\n",
    "    # \"TwentyNewsgroupsClustering\",\n",
    "]\n",
    "\n",
    "TASK_LIST_PAIR_CLASSIFICATION = [\n",
    "    # \"SprintDuplicateQuestions\",\n",
    "    \"TwitterSemEval2015\",\n",
    "    # \"TwitterURLCorpus\",\n",
    "]\n",
    "\n",
    "TASK_LIST_RERANKING = [\n",
    "    \"AskUbuntuDupQuestions\",\n",
    "#     \"MindSmallReranking\",\n",
    "#     \"SciDocsRR\",\n",
    "#     \"StackOverflowDupQuestions\",\n",
    "]\n",
    "\n",
    "TASK_LIST_RETRIEVAL = [\n",
    "    \"ArguAna\",\n",
    "    # \"ClimateFEVER\",\n",
    "    # \"CQADupstackAndroidRetrieval\",\n",
    "    # \"CQADupstackEnglishRetrieval\",\n",
    "    # \"CQADupstackGamingRetrieval\",\n",
    "    # \"CQADupstackGisRetrieval\",\n",
    "    # \"CQADupstackMathematicaRetrieval\",\n",
    "    # \"CQADupstackPhysicsRetrieval\",\n",
    "    # \"CQADupstackProgrammersRetrieval\",\n",
    "    # \"CQADupstackStatsRetrieval\",\n",
    "    # \"CQADupstackTexRetrieval\",\n",
    "    # \"CQADupstackUnixRetrieval\",\n",
    "    # \"CQADupstackWebmastersRetrieval\",\n",
    "    # \"CQADupstackWordpressRetrieval\",\n",
    "    # \"DBPedia\",\n",
    "    # \"FEVER\",\n",
    "    # \"FiQA2018\",\n",
    "    # \"HotpotQA\",\n",
    "    # \"MSMARCO\",\n",
    "    # \"NFCorpus\",\n",
    "    # \"NQ\",\n",
    "    # \"QuoraRetrieval\",\n",
    "    # \"SCIDOCS\",\n",
    "    \"SciFact\",\n",
    "    # \"Touche2020\",\n",
    "    # \"TRECCOVID\",\n",
    "]\n",
    "\n",
    "TASK_LIST_STS = [\n",
    "    \"SICK-R\",\n",
    "    \"STS12\",\n",
    "    \"STS13\",\n",
    "    \"STS14\",\n",
    "    \"STS15\",\n",
    "    \"STS16\",\n",
    "    \"STS17\",\n",
    "    \"STS22\",\n",
    "    \"STSBenchmark\",\n",
    "    # \"BIOSSES\",\n",
    "]\n",
    "\n",
    "TASK_LIST = TASK_LIST_CLASSIFICATION + TASK_LIST_CLUSTERING + TASK_LIST_PAIR_CLASSIFICATION + TASK_LIST_RERANKING + TASK_LIST_RETRIEVAL + TASK_LIST_STS"
   ]
  },
  {
   "cell_type": "code",
   "execution_count": 5,
   "metadata": {},
   "outputs": [],
   "source": [
    "def PCA2(data, dims_rescaled_data=2):\n",
    "    \"\"\"\n",
    "    returns: data transformed in 2 dims/columns + regenerated original data\n",
    "    pass in: data as 2D NumPy array\n",
    "    \"\"\"\n",
    "    import numpy as NP\n",
    "    from scipy import linalg as LA\n",
    "    m, n = data.shape\n",
    "    # mean center the data\n",
    "    data -= data.mean(axis=0)\n",
    "    # calculate the covariance matrix\n",
    "    R = NP.cov(data, rowvar=False)\n",
    "    # calculate eigenvectors & eigenvalues of the covariance matrix\n",
    "    # use 'eigh' rather than 'eig' since R is symmetric,\n",
    "    # the performance gain is substantial\n",
    "    evals, evecs = LA.eigh(R)\n",
    "    # sort eigenvalue in decreasing order\n",
    "    idx = NP.argsort(evals)[::-1]\n",
    "    evecs = evecs[:,idx]\n",
    "    # sort eigenvectors according to same index\n",
    "    evals = evals[idx]\n",
    "    # select the first n eigenvectors (n is desired dimension\n",
    "    # of rescaled data array, or dims_rescaled_data)\n",
    "    evecs = evecs[:, :dims_rescaled_data]\n",
    "    # carry out the transformation on the data using eigenvectors\n",
    "    # and return the re-scaled data, eigenvalues, and eigenvectors\n",
    "    return NP.dot(evecs.T, data.T).T, evals, evecs"
   ]
  },
  {
   "cell_type": "code",
   "execution_count": 7,
   "metadata": {},
   "outputs": [],
   "source": [
    "def generate_pca(ndims):\n",
    "    script_logger = setup_logger(\"Generator\", f\"logs_pca/generating_{ndims}_log.txt\")\n",
    "    # Generate stacked model of all sizes\n",
    "    for r in range(1, len(BASIC_MODELS) + 1):\n",
    "        combinations_object = itertools.combinations(BASIC_MODELS, r)\n",
    "        combinations_list = [sorted(list(combination)) for combination in combinations_object] # Sort to ensure the same combination is always the same\n",
    "        \n",
    "        for combination in combinations_list:\n",
    "            concat_model = \"$\".join(combination)\n",
    "            script_logger.info(f\"\\n\\nCombination: {concat_model}\")\n",
    "            \n",
    "            for task in TASK_LIST:\n",
    "                # if computed, skip\n",
    "                path = f\"data_pca/{ndims}/{concat_model}/{task}\"\n",
    "                if (os.path.exists(path)):\n",
    "                    script_logger.info(f\"Skipping {path}\")\n",
    "                    continue\n",
    "                \n",
    "                script_logger.info(f\"Generating {path}\")\n",
    "                \n",
    "                # get the embeddings for each task from the different models\n",
    "                task_embeddings = []\n",
    "                for model in combination:\n",
    "                    model_dataset = datasets.load_from_disk(f\"data/{model}/{task}\")\n",
    "                    \n",
    "                    # normalise embeddings in dataset\n",
    "                    model_dataset = model_dataset.map(lambda x: {'embeddings': x['embeddings'] / np.linalg.norm(x['embeddings'])})\n",
    "                    \n",
    "                    # rename column (to avoid duplicate 'embeddings' column name)\n",
    "                    model_dataset = model_dataset.rename_column(\"embeddings\", f\"embeddings_{model}\")\n",
    "                    task_embeddings.append(model_dataset)\n",
    "                \n",
    "                ds = datasets.concatenate_datasets(task_embeddings, axis = 1)\n",
    "                df = ds.to_pandas()\n",
    "                concat_model = \"$\".join(combination)\n",
    "                df[concat_model] = df.apply(lambda row: np.concatenate([row[f\"embeddings_{model}\"] for model in combination]), axis = 1)\n",
    "                df = df[concat_model]\n",
    "                \n",
    "                # number of samples must be at least the number of dimensions\n",
    "                if len(df) < ndims:\n",
    "                    script_logger.info(f\"Skipping {path} due to insufficient samples\")\n",
    "                    continue\n",
    "                \n",
    "                # PCA\n",
    "                data = np.array(df.tolist())\n",
    "                new_data, _, _ = PCA2(data, dims_rescaled_data=ndims)\n",
    "                \n",
    "                # save to dir\n",
    "                dataset = datasets.Dataset.from_dict({\"embeddings\": new_data})\n",
    "                dataset.save_to_disk(path, max_shard_size=\"75MB\")\n",
    "                script_logger.info(f\"Saved {path}\")"
   ]
  },
  {
   "cell_type": "code",
   "execution_count": 8,
   "metadata": {},
   "outputs": [],
   "source": [
    "ndims_list = [\n",
    "    256, \n",
    "    512, \n",
    "    768, \n",
    "    896, \n",
    "    1024\n",
    "    ]"
   ]
  },
  {
   "cell_type": "code",
   "execution_count": 9,
   "metadata": {},
   "outputs": [
    {
     "data": {
      "application/vnd.jupyter.widget-view+json": {
       "model_id": "f18fdba12b1347a2bd9a63cf1cb7b7da",
       "version_major": 2,
       "version_minor": 0
      },
      "text/plain": [
       "Saving the dataset (0/3 shards):   0%|          | 0/33554 [00:00<?, ? examples/s]"
      ]
     },
     "metadata": {},
     "output_type": "display_data"
    },
    {
     "data": {
      "application/vnd.jupyter.widget-view+json": {
       "model_id": "1f940ef5eaea4c41a93a517ef155b1f0",
       "version_major": 2,
       "version_minor": 0
      },
      "text/plain": [
       "Saving the dataset (0/1 shards):   0%|          | 0/7875 [00:00<?, ? examples/s]"
      ]
     },
     "metadata": {},
     "output_type": "display_data"
    },
    {
     "data": {
      "application/vnd.jupyter.widget-view+json": {
       "model_id": "429d4e44990c4727be6a2f897399b362",
       "version_major": 2,
       "version_minor": 0
      },
      "text/plain": [
       "Saving the dataset (0/1 shards):   0%|          | 0/10080 [00:00<?, ? examples/s]"
      ]
     },
     "metadata": {},
     "output_type": "display_data"
    },
    {
     "data": {
      "application/vnd.jupyter.widget-view+json": {
       "model_id": "2f6c934b3c644fa5a22b2c6be0ff7efc",
       "version_major": 2,
       "version_minor": 0
      },
      "text/plain": [
       "Saving the dataset (0/1 shards):   0%|          | 0/5483 [00:00<?, ? examples/s]"
      ]
     },
     "metadata": {},
     "output_type": "display_data"
    },
    {
     "data": {
      "application/vnd.jupyter.widget-view+json": {
       "model_id": "26325d9c75bd4249a184e184bbab2bec",
       "version_major": 2,
       "version_minor": 0
      },
      "text/plain": [
       "Saving the dataset (0/1 shards):   0%|          | 0/5023 [00:00<?, ? examples/s]"
      ]
     },
     "metadata": {},
     "output_type": "display_data"
    },
    {
     "data": {
      "application/vnd.jupyter.widget-view+json": {
       "model_id": "68f42d4dc06b4766aa0d53a1005db7f7",
       "version_major": 2,
       "version_minor": 0
      },
      "text/plain": [
       "Saving the dataset (0/2 shards):   0%|          | 0/13083 [00:00<?, ? examples/s]"
      ]
     },
     "metadata": {},
     "output_type": "display_data"
    },
    {
     "data": {
      "application/vnd.jupyter.widget-view+json": {
       "model_id": "d9a05f92ad4748b9b9b9fa82b25375fb",
       "version_major": 2,
       "version_minor": 0
      },
      "text/plain": [
       "Saving the dataset (0/7 shards):   0%|          | 0/75000 [00:00<?, ? examples/s]"
      ]
     },
     "metadata": {},
     "output_type": "display_data"
    },
    {
     "data": {
      "application/vnd.jupyter.widget-view+json": {
       "model_id": "463d38471a7748ad904021c8f75d4d38",
       "version_major": 2,
       "version_minor": 0
      },
      "text/plain": [
       "Saving the dataset (0/4 shards):   0%|          | 0/37500 [00:00<?, ? examples/s]"
      ]
     },
     "metadata": {},
     "output_type": "display_data"
    },
    {
     "data": {
      "application/vnd.jupyter.widget-view+json": {
       "model_id": "7f3108ec546b4c2f85b1bda738074520",
       "version_major": 2,
       "version_minor": 0
      },
      "text/plain": [
       "Saving the dataset (0/3 shards):   0%|          | 0/33554 [00:00<?, ? examples/s]"
      ]
     },
     "metadata": {},
     "output_type": "display_data"
    },
    {
     "data": {
      "application/vnd.jupyter.widget-view+json": {
       "model_id": "b3ae0e7d587d43b5a1e501f7733f19ec",
       "version_major": 2,
       "version_minor": 0
      },
      "text/plain": [
       "Saving the dataset (0/1 shards):   0%|          | 0/7875 [00:00<?, ? examples/s]"
      ]
     },
     "metadata": {},
     "output_type": "display_data"
    },
    {
     "data": {
      "application/vnd.jupyter.widget-view+json": {
       "model_id": "d63f6a22e43c417ca1d373a37f09bb21",
       "version_major": 2,
       "version_minor": 0
      },
      "text/plain": [
       "Saving the dataset (0/1 shards):   0%|          | 0/10080 [00:00<?, ? examples/s]"
      ]
     },
     "metadata": {},
     "output_type": "display_data"
    },
    {
     "data": {
      "application/vnd.jupyter.widget-view+json": {
       "model_id": "0a2b78bb2f4c424a94c192ecc755d947",
       "version_major": 2,
       "version_minor": 0
      },
      "text/plain": [
       "Saving the dataset (0/1 shards):   0%|          | 0/5483 [00:00<?, ? examples/s]"
      ]
     },
     "metadata": {},
     "output_type": "display_data"
    },
    {
     "data": {
      "application/vnd.jupyter.widget-view+json": {
       "model_id": "8224aa6d93574140a6522eba68efa59a",
       "version_major": 2,
       "version_minor": 0
      },
      "text/plain": [
       "Saving the dataset (0/1 shards):   0%|          | 0/5023 [00:00<?, ? examples/s]"
      ]
     },
     "metadata": {},
     "output_type": "display_data"
    },
    {
     "data": {
      "application/vnd.jupyter.widget-view+json": {
       "model_id": "32715789fe5b47b0af905a292784f1bc",
       "version_major": 2,
       "version_minor": 0
      },
      "text/plain": [
       "Saving the dataset (0/2 shards):   0%|          | 0/13083 [00:00<?, ? examples/s]"
      ]
     },
     "metadata": {},
     "output_type": "display_data"
    },
    {
     "data": {
      "application/vnd.jupyter.widget-view+json": {
       "model_id": "0f007dcd91764bb78df86cb40f96f8db",
       "version_major": 2,
       "version_minor": 0
      },
      "text/plain": [
       "Saving the dataset (0/7 shards):   0%|          | 0/75000 [00:00<?, ? examples/s]"
      ]
     },
     "metadata": {},
     "output_type": "display_data"
    },
    {
     "data": {
      "application/vnd.jupyter.widget-view+json": {
       "model_id": "13d76d6b32c4469f89ae27c56dd41c49",
       "version_major": 2,
       "version_minor": 0
      },
      "text/plain": [
       "Saving the dataset (0/4 shards):   0%|          | 0/37500 [00:00<?, ? examples/s]"
      ]
     },
     "metadata": {},
     "output_type": "display_data"
    },
    {
     "data": {
      "application/vnd.jupyter.widget-view+json": {
       "model_id": "350b728bf5ee449b9c6a6e40e1fbd3c4",
       "version_major": 2,
       "version_minor": 0
      },
      "text/plain": [
       "Saving the dataset (0/3 shards):   0%|          | 0/33554 [00:00<?, ? examples/s]"
      ]
     },
     "metadata": {},
     "output_type": "display_data"
    },
    {
     "data": {
      "application/vnd.jupyter.widget-view+json": {
       "model_id": "61bfd860786441919ad3f52592fc8942",
       "version_major": 2,
       "version_minor": 0
      },
      "text/plain": [
       "Saving the dataset (0/1 shards):   0%|          | 0/7875 [00:00<?, ? examples/s]"
      ]
     },
     "metadata": {},
     "output_type": "display_data"
    },
    {
     "data": {
      "application/vnd.jupyter.widget-view+json": {
       "model_id": "74a9da1567804f069183761b1c071aad",
       "version_major": 2,
       "version_minor": 0
      },
      "text/plain": [
       "Saving the dataset (0/1 shards):   0%|          | 0/10080 [00:00<?, ? examples/s]"
      ]
     },
     "metadata": {},
     "output_type": "display_data"
    },
    {
     "data": {
      "application/vnd.jupyter.widget-view+json": {
       "model_id": "56093e6ed47f4387ac09aa742deb0964",
       "version_major": 2,
       "version_minor": 0
      },
      "text/plain": [
       "Saving the dataset (0/1 shards):   0%|          | 0/5483 [00:00<?, ? examples/s]"
      ]
     },
     "metadata": {},
     "output_type": "display_data"
    },
    {
     "data": {
      "application/vnd.jupyter.widget-view+json": {
       "model_id": "f47a30111dda42e3a5c7053b602abe7b",
       "version_major": 2,
       "version_minor": 0
      },
      "text/plain": [
       "Saving the dataset (0/1 shards):   0%|          | 0/5023 [00:00<?, ? examples/s]"
      ]
     },
     "metadata": {},
     "output_type": "display_data"
    },
    {
     "data": {
      "application/vnd.jupyter.widget-view+json": {
       "model_id": "117edcac76514100bcae0c37e73159cf",
       "version_major": 2,
       "version_minor": 0
      },
      "text/plain": [
       "Saving the dataset (0/2 shards):   0%|          | 0/13083 [00:00<?, ? examples/s]"
      ]
     },
     "metadata": {},
     "output_type": "display_data"
    },
    {
     "data": {
      "application/vnd.jupyter.widget-view+json": {
       "model_id": "e4e439c12dbd4696b62d6819d2620ab5",
       "version_major": 2,
       "version_minor": 0
      },
      "text/plain": [
       "Saving the dataset (0/7 shards):   0%|          | 0/75000 [00:00<?, ? examples/s]"
      ]
     },
     "metadata": {},
     "output_type": "display_data"
    },
    {
     "data": {
      "application/vnd.jupyter.widget-view+json": {
       "model_id": "013c0be6d60a4772a025ecc3306cd9ff",
       "version_major": 2,
       "version_minor": 0
      },
      "text/plain": [
       "Saving the dataset (0/4 shards):   0%|          | 0/37500 [00:00<?, ? examples/s]"
      ]
     },
     "metadata": {},
     "output_type": "display_data"
    },
    {
     "data": {
      "application/vnd.jupyter.widget-view+json": {
       "model_id": "6c25ec046a90490599207c5c1731dc08",
       "version_major": 2,
       "version_minor": 0
      },
      "text/plain": [
       "Saving the dataset (0/3 shards):   0%|          | 0/33554 [00:00<?, ? examples/s]"
      ]
     },
     "metadata": {},
     "output_type": "display_data"
    },
    {
     "data": {
      "application/vnd.jupyter.widget-view+json": {
       "model_id": "5c806c0eb4484d1c842cca137de63e0f",
       "version_major": 2,
       "version_minor": 0
      },
      "text/plain": [
       "Saving the dataset (0/1 shards):   0%|          | 0/7875 [00:00<?, ? examples/s]"
      ]
     },
     "metadata": {},
     "output_type": "display_data"
    },
    {
     "data": {
      "application/vnd.jupyter.widget-view+json": {
       "model_id": "5a74e2e914b6482aaffc595c04aff6c3",
       "version_major": 2,
       "version_minor": 0
      },
      "text/plain": [
       "Saving the dataset (0/1 shards):   0%|          | 0/10080 [00:00<?, ? examples/s]"
      ]
     },
     "metadata": {},
     "output_type": "display_data"
    },
    {
     "data": {
      "application/vnd.jupyter.widget-view+json": {
       "model_id": "9674adea7fc1449983e79d75ec835822",
       "version_major": 2,
       "version_minor": 0
      },
      "text/plain": [
       "Saving the dataset (0/1 shards):   0%|          | 0/5483 [00:00<?, ? examples/s]"
      ]
     },
     "metadata": {},
     "output_type": "display_data"
    },
    {
     "data": {
      "application/vnd.jupyter.widget-view+json": {
       "model_id": "387e223a962c445cb1dc4a9ca3a99e6e",
       "version_major": 2,
       "version_minor": 0
      },
      "text/plain": [
       "Saving the dataset (0/1 shards):   0%|          | 0/5023 [00:00<?, ? examples/s]"
      ]
     },
     "metadata": {},
     "output_type": "display_data"
    },
    {
     "data": {
      "application/vnd.jupyter.widget-view+json": {
       "model_id": "5969886e2ac74e6b99a8660dfe83bffc",
       "version_major": 2,
       "version_minor": 0
      },
      "text/plain": [
       "Saving the dataset (0/2 shards):   0%|          | 0/13083 [00:00<?, ? examples/s]"
      ]
     },
     "metadata": {},
     "output_type": "display_data"
    },
    {
     "data": {
      "application/vnd.jupyter.widget-view+json": {
       "model_id": "d3989809c36048de9a9a53d178a85fed",
       "version_major": 2,
       "version_minor": 0
      },
      "text/plain": [
       "Saving the dataset (0/7 shards):   0%|          | 0/75000 [00:00<?, ? examples/s]"
      ]
     },
     "metadata": {},
     "output_type": "display_data"
    },
    {
     "data": {
      "application/vnd.jupyter.widget-view+json": {
       "model_id": "a7a812f80d5643a4967266bee20475f8",
       "version_major": 2,
       "version_minor": 0
      },
      "text/plain": [
       "Saving the dataset (0/4 shards):   0%|          | 0/37500 [00:00<?, ? examples/s]"
      ]
     },
     "metadata": {},
     "output_type": "display_data"
    },
    {
     "data": {
      "application/vnd.jupyter.widget-view+json": {
       "model_id": "005e6c58e54f443a9736ad1dc9d1b12b",
       "version_major": 2,
       "version_minor": 0
      },
      "text/plain": [
       "Saving the dataset (0/3 shards):   0%|          | 0/33554 [00:00<?, ? examples/s]"
      ]
     },
     "metadata": {},
     "output_type": "display_data"
    },
    {
     "data": {
      "application/vnd.jupyter.widget-view+json": {
       "model_id": "33b85cdd1aa94c8f90e7282aa7807dea",
       "version_major": 2,
       "version_minor": 0
      },
      "text/plain": [
       "Saving the dataset (0/1 shards):   0%|          | 0/7875 [00:00<?, ? examples/s]"
      ]
     },
     "metadata": {},
     "output_type": "display_data"
    },
    {
     "data": {
      "application/vnd.jupyter.widget-view+json": {
       "model_id": "65a70fa2b512498db32dd191e2f7a320",
       "version_major": 2,
       "version_minor": 0
      },
      "text/plain": [
       "Saving the dataset (0/1 shards):   0%|          | 0/10080 [00:00<?, ? examples/s]"
      ]
     },
     "metadata": {},
     "output_type": "display_data"
    },
    {
     "data": {
      "application/vnd.jupyter.widget-view+json": {
       "model_id": "039a22a3196e4b1288f6a80de5bbb2e1",
       "version_major": 2,
       "version_minor": 0
      },
      "text/plain": [
       "Saving the dataset (0/1 shards):   0%|          | 0/5483 [00:00<?, ? examples/s]"
      ]
     },
     "metadata": {},
     "output_type": "display_data"
    },
    {
     "data": {
      "application/vnd.jupyter.widget-view+json": {
       "model_id": "78b9b82f68ae4e4182cf4250d5ca89d5",
       "version_major": 2,
       "version_minor": 0
      },
      "text/plain": [
       "Saving the dataset (0/1 shards):   0%|          | 0/5023 [00:00<?, ? examples/s]"
      ]
     },
     "metadata": {},
     "output_type": "display_data"
    },
    {
     "data": {
      "application/vnd.jupyter.widget-view+json": {
       "model_id": "eeb2648bf8cb466281c86027b94a2ce8",
       "version_major": 2,
       "version_minor": 0
      },
      "text/plain": [
       "Saving the dataset (0/2 shards):   0%|          | 0/13083 [00:00<?, ? examples/s]"
      ]
     },
     "metadata": {},
     "output_type": "display_data"
    },
    {
     "data": {
      "application/vnd.jupyter.widget-view+json": {
       "model_id": "dcc31dcf8df349eca9e6a93c4171aefc",
       "version_major": 2,
       "version_minor": 0
      },
      "text/plain": [
       "Saving the dataset (0/7 shards):   0%|          | 0/75000 [00:00<?, ? examples/s]"
      ]
     },
     "metadata": {},
     "output_type": "display_data"
    },
    {
     "data": {
      "application/vnd.jupyter.widget-view+json": {
       "model_id": "397b7ae9f95047e6951939cbd865ea56",
       "version_major": 2,
       "version_minor": 0
      },
      "text/plain": [
       "Saving the dataset (0/4 shards):   0%|          | 0/37500 [00:00<?, ? examples/s]"
      ]
     },
     "metadata": {},
     "output_type": "display_data"
    },
    {
     "data": {
      "application/vnd.jupyter.widget-view+json": {
       "model_id": "b93cce2c13494250858c71a6b244966d",
       "version_major": 2,
       "version_minor": 0
      },
      "text/plain": [
       "Saving the dataset (0/3 shards):   0%|          | 0/33554 [00:00<?, ? examples/s]"
      ]
     },
     "metadata": {},
     "output_type": "display_data"
    },
    {
     "data": {
      "application/vnd.jupyter.widget-view+json": {
       "model_id": "2868659a1b024241ae7250f933bb4aa9",
       "version_major": 2,
       "version_minor": 0
      },
      "text/plain": [
       "Saving the dataset (0/1 shards):   0%|          | 0/7875 [00:00<?, ? examples/s]"
      ]
     },
     "metadata": {},
     "output_type": "display_data"
    },
    {
     "data": {
      "application/vnd.jupyter.widget-view+json": {
       "model_id": "641825e5eb1f443b8391ca548ad8e245",
       "version_major": 2,
       "version_minor": 0
      },
      "text/plain": [
       "Saving the dataset (0/1 shards):   0%|          | 0/10080 [00:00<?, ? examples/s]"
      ]
     },
     "metadata": {},
     "output_type": "display_data"
    },
    {
     "data": {
      "application/vnd.jupyter.widget-view+json": {
       "model_id": "68f8d40bcf1145ceb6d1db2f346a0a0c",
       "version_major": 2,
       "version_minor": 0
      },
      "text/plain": [
       "Saving the dataset (0/1 shards):   0%|          | 0/5483 [00:00<?, ? examples/s]"
      ]
     },
     "metadata": {},
     "output_type": "display_data"
    },
    {
     "data": {
      "application/vnd.jupyter.widget-view+json": {
       "model_id": "fb73ed64e6c844d8bced8a2c3f77e64b",
       "version_major": 2,
       "version_minor": 0
      },
      "text/plain": [
       "Saving the dataset (0/1 shards):   0%|          | 0/5023 [00:00<?, ? examples/s]"
      ]
     },
     "metadata": {},
     "output_type": "display_data"
    },
    {
     "data": {
      "application/vnd.jupyter.widget-view+json": {
       "model_id": "f99b594cbc574490ae6cf36a2ee88cd1",
       "version_major": 2,
       "version_minor": 0
      },
      "text/plain": [
       "Saving the dataset (0/2 shards):   0%|          | 0/13083 [00:00<?, ? examples/s]"
      ]
     },
     "metadata": {},
     "output_type": "display_data"
    },
    {
     "data": {
      "application/vnd.jupyter.widget-view+json": {
       "model_id": "2f57e92fd8f94eba9430353e78d6f8b7",
       "version_major": 2,
       "version_minor": 0
      },
      "text/plain": [
       "Saving the dataset (0/7 shards):   0%|          | 0/75000 [00:00<?, ? examples/s]"
      ]
     },
     "metadata": {},
     "output_type": "display_data"
    },
    {
     "data": {
      "application/vnd.jupyter.widget-view+json": {
       "model_id": "e890a8cc6940445e8e8ba7e943938d21",
       "version_major": 2,
       "version_minor": 0
      },
      "text/plain": [
       "Saving the dataset (0/4 shards):   0%|          | 0/37500 [00:00<?, ? examples/s]"
      ]
     },
     "metadata": {},
     "output_type": "display_data"
    },
    {
     "data": {
      "application/vnd.jupyter.widget-view+json": {
       "model_id": "cfc72dd49b2e4159bf9740d842448e24",
       "version_major": 2,
       "version_minor": 0
      },
      "text/plain": [
       "Saving the dataset (0/3 shards):   0%|          | 0/33554 [00:00<?, ? examples/s]"
      ]
     },
     "metadata": {},
     "output_type": "display_data"
    },
    {
     "data": {
      "application/vnd.jupyter.widget-view+json": {
       "model_id": "079031968a1841db99884702a49e7b26",
       "version_major": 2,
       "version_minor": 0
      },
      "text/plain": [
       "Saving the dataset (0/1 shards):   0%|          | 0/7875 [00:00<?, ? examples/s]"
      ]
     },
     "metadata": {},
     "output_type": "display_data"
    },
    {
     "data": {
      "application/vnd.jupyter.widget-view+json": {
       "model_id": "c7aa7be965b5481fb92b0dc168d63de4",
       "version_major": 2,
       "version_minor": 0
      },
      "text/plain": [
       "Saving the dataset (0/1 shards):   0%|          | 0/10080 [00:00<?, ? examples/s]"
      ]
     },
     "metadata": {},
     "output_type": "display_data"
    },
    {
     "data": {
      "application/vnd.jupyter.widget-view+json": {
       "model_id": "fcbb79fe55e643a3b47d1dca53c4574c",
       "version_major": 2,
       "version_minor": 0
      },
      "text/plain": [
       "Saving the dataset (0/1 shards):   0%|          | 0/5483 [00:00<?, ? examples/s]"
      ]
     },
     "metadata": {},
     "output_type": "display_data"
    },
    {
     "ename": "KeyboardInterrupt",
     "evalue": "",
     "output_type": "error",
     "traceback": [
      "\u001b[1;31m---------------------------------------------------------------------------\u001b[0m",
      "\u001b[1;31mKeyboardInterrupt\u001b[0m                         Traceback (most recent call last)",
      "Cell \u001b[1;32mIn[9], line 4\u001b[0m\n\u001b[0;32m      2\u001b[0m script_logger \u001b[38;5;241m=\u001b[39m setup_logger(\u001b[38;5;124m\"\u001b[39m\u001b[38;5;124mGenerator\u001b[39m\u001b[38;5;124m\"\u001b[39m, \u001b[38;5;124mf\u001b[39m\u001b[38;5;124m\"\u001b[39m\u001b[38;5;124mlogs_pca/generating_\u001b[39m\u001b[38;5;132;01m{\u001b[39;00mndims\u001b[38;5;132;01m}\u001b[39;00m\u001b[38;5;124m_log.txt\u001b[39m\u001b[38;5;124m\"\u001b[39m)\n\u001b[0;32m      3\u001b[0m script_logger\u001b[38;5;241m.\u001b[39minfo(\u001b[38;5;124mf\u001b[39m\u001b[38;5;124m\"\u001b[39m\u001b[38;5;130;01m\\n\u001b[39;00m\u001b[38;5;130;01m\\n\u001b[39;00m\u001b[38;5;130;01m\\n\u001b[39;00m\u001b[38;5;130;01m\\n\u001b[39;00m\u001b[38;5;124mStarting PCA embedding generation for \u001b[39m\u001b[38;5;132;01m{\u001b[39;00mndims\u001b[38;5;132;01m}\u001b[39;00m\u001b[38;5;124m dimensions.\u001b[39m\u001b[38;5;124m\"\u001b[39m)\n\u001b[1;32m----> 4\u001b[0m generate_pca(ndims)\n",
      "Cell \u001b[1;32mIn[7], line 46\u001b[0m, in \u001b[0;36mgenerate_pca\u001b[1;34m(ndims)\u001b[0m\n\u001b[0;32m     44\u001b[0m \u001b[38;5;66;03m# PCA\u001b[39;00m\n\u001b[0;32m     45\u001b[0m data \u001b[38;5;241m=\u001b[39m np\u001b[38;5;241m.\u001b[39marray(df\u001b[38;5;241m.\u001b[39mtolist())\n\u001b[1;32m---> 46\u001b[0m new_data, _, _ \u001b[38;5;241m=\u001b[39m PCA2(data, dims_rescaled_data\u001b[38;5;241m=\u001b[39mndims)\n\u001b[0;32m     48\u001b[0m \u001b[38;5;66;03m# save to dir\u001b[39;00m\n\u001b[0;32m     49\u001b[0m dataset \u001b[38;5;241m=\u001b[39m datasets\u001b[38;5;241m.\u001b[39mDataset\u001b[38;5;241m.\u001b[39mfrom_dict({\u001b[38;5;124m\"\u001b[39m\u001b[38;5;124membeddings\u001b[39m\u001b[38;5;124m\"\u001b[39m: new_data})\n",
      "Cell \u001b[1;32mIn[5], line 18\u001b[0m, in \u001b[0;36mPCA2\u001b[1;34m(data, dims_rescaled_data)\u001b[0m\n\u001b[0;32m     16\u001b[0m evals, evecs \u001b[38;5;241m=\u001b[39m LA\u001b[38;5;241m.\u001b[39meigh(R)\n\u001b[0;32m     17\u001b[0m \u001b[38;5;66;03m# sort eigenvalue in decreasing order\u001b[39;00m\n\u001b[1;32m---> 18\u001b[0m idx \u001b[38;5;241m=\u001b[39m NP\u001b[38;5;241m.\u001b[39margsort(evals)[::\u001b[38;5;241m-\u001b[39m\u001b[38;5;241m1\u001b[39m]\n\u001b[0;32m     19\u001b[0m evecs \u001b[38;5;241m=\u001b[39m evecs[:,idx]\n\u001b[0;32m     20\u001b[0m \u001b[38;5;66;03m# sort eigenvectors according to same index\u001b[39;00m\n",
      "File \u001b[1;32mc:\\Users\\Ryan\\anaconda3\\envs\\SNLP\\Lib\\site-packages\\numpy\\core\\fromnumeric.py:1021\u001b[0m, in \u001b[0;36m_argsort_dispatcher\u001b[1;34m(a, axis, kind, order)\u001b[0m\n\u001b[0;32m   1017\u001b[0m     a\u001b[38;5;241m.\u001b[39msort(axis\u001b[38;5;241m=\u001b[39maxis, kind\u001b[38;5;241m=\u001b[39mkind, order\u001b[38;5;241m=\u001b[39morder)\n\u001b[0;32m   1018\u001b[0m     \u001b[38;5;28;01mreturn\u001b[39;00m a\n\u001b[1;32m-> 1021\u001b[0m \u001b[38;5;28;01mdef\u001b[39;00m \u001b[38;5;21m_argsort_dispatcher\u001b[39m(a, axis\u001b[38;5;241m=\u001b[39m\u001b[38;5;28;01mNone\u001b[39;00m, kind\u001b[38;5;241m=\u001b[39m\u001b[38;5;28;01mNone\u001b[39;00m, order\u001b[38;5;241m=\u001b[39m\u001b[38;5;28;01mNone\u001b[39;00m):\n\u001b[0;32m   1022\u001b[0m     \u001b[38;5;28;01mreturn\u001b[39;00m (a,)\n\u001b[0;32m   1025\u001b[0m \u001b[38;5;129m@array_function_dispatch\u001b[39m(_argsort_dispatcher)\n\u001b[0;32m   1026\u001b[0m \u001b[38;5;28;01mdef\u001b[39;00m \u001b[38;5;21margsort\u001b[39m(a, axis\u001b[38;5;241m=\u001b[39m\u001b[38;5;241m-\u001b[39m\u001b[38;5;241m1\u001b[39m, kind\u001b[38;5;241m=\u001b[39m\u001b[38;5;28;01mNone\u001b[39;00m, order\u001b[38;5;241m=\u001b[39m\u001b[38;5;28;01mNone\u001b[39;00m):\n",
      "\u001b[1;31mKeyboardInterrupt\u001b[0m: "
     ]
    }
   ],
   "source": [
    "for ndims in ndims_list:\n",
    "    script_logger = setup_logger(\"Generator\", f\"logs_pca/generating_{ndims}_log.txt\")\n",
    "    script_logger.info(f\"\\n\\n\\n\\nStarting PCA embedding generation for {ndims} dimensions.\")\n",
    "    generate_pca(ndims)"
   ]
  },
  {
   "cell_type": "markdown",
   "metadata": {},
   "source": [
    "## Computing Results"
   ]
  },
  {
   "cell_type": "code",
   "execution_count": null,
   "metadata": {},
   "outputs": [],
   "source": [
    "MODELS = os.listdir('data_pca/1024')"
   ]
  },
  {
   "cell_type": "markdown",
   "metadata": {},
   "source": [
    "PCA Model Class"
   ]
  },
  {
   "cell_type": "code",
   "execution_count": null,
   "metadata": {},
   "outputs": [],
   "source": [
    "class AbstractModel(ABC):\n",
    "    \n",
    "    def __init__(self, model_name: str, task_name: str): # The task name is needed for caching\n",
    "        self.model_name = model_name\n",
    "        self.task_name = task_name\n",
    "\n",
    "    @abstractmethod\n",
    "    def encode(self, sentences, batch_size=32, **kwargs):\n",
    "        \"\"\"\n",
    "        Returns a list of embeddings for the given sentences.\n",
    "\n",
    "        NOTE: The vectors should be normalized to unit length (L2 norm)\n",
    "\n",
    "        Args:\n",
    "            sentences (`List[str]`): List of sentences to encode\n",
    "            batch_size (`int`): Batch size for the encoding\n",
    "\n",
    "        Returns:\n",
    "            `List[np.ndarray]` or `List[tensor]`: List of embeddings for the given sentences\n",
    "        \"\"\"\n",
    "        pass"
   ]
  },
  {
   "cell_type": "code",
   "execution_count": null,
   "metadata": {},
   "outputs": [],
   "source": [
    "class PCAModel(AbstractModel):\n",
    "    def __init__(self, model_name: str, task_name: str, ndims: int):\n",
    "        super().__init__(model_name, task_name)\n",
    "        main: datasets.Dataset = datasets.load_from_disk(f\"data/sentences/{self.task_name}\")\n",
    "        embeddings: datasets.Dataset = datasets.load_from_disk(f\"data_pca/{ndims}/{model_name}/{self.task_name}\")\n",
    "        \n",
    "        ds = datasets.concatenate_datasets([main, embeddings], axis=1)\n",
    "        self.df = ds.to_pandas().drop_duplicates(subset=[\"text\"]).set_index(\"text\")\n",
    "\n",
    "    def encode(self, sentences, batch_size=32, **kwargs):\n",
    "        embeddings = self.df.loc[sentences][\"embeddings\"].values\n",
    "        return np.vstack(embeddings)"
   ]
  },
  {
   "cell_type": "markdown",
   "metadata": {},
   "source": [
    "Computing results"
   ]
  },
  {
   "cell_type": "code",
   "execution_count": null,
   "metadata": {},
   "outputs": [],
   "source": [
    "def evaluate_model(model_name, ndims):\n",
    "    script_logger = setup_logger(model_name, f\"logs_pca/{ndims}/{model_name}_log.txt\")\n",
    "    script_logger.info(f\"Starting evaluation for {model_name} reduced to {ndims} dimensions\")\n",
    "    \n",
    "    for task in TASK_LIST:\n",
    "        # if results have already been computed, skip\n",
    "        if os.path.exists(f\"results_pca/{ndims}/{model_name}/{task}.json\"):\n",
    "            script_logger.info(f\"Skipping {task} as it already exists\")\n",
    "            continue\n",
    "        \n",
    "        script_logger.info(f\"Running Task: {task}\")\n",
    "        \n",
    "        # if embeddings have not been computed, skip\n",
    "        if not os.path.exists(f\"data_pca/{ndims}/{model_name}/{task}\"):\n",
    "            script_logger.info(f\"Skipping {task} as embeddings have not been computed\")\n",
    "            continue\n",
    "        \n",
    "        # loading the model\n",
    "        if (\"$\" in model_name): # if the model is not a PCA model\n",
    "            model = PCAModel(model_name, task, ndims)\n",
    "        else:\n",
    "            model = model_factory(model_name, task)\n",
    "        \n",
    "        # eval_splits = [\"dev\"] if task == \"MSMARCO\" else [\"test\"]\n",
    "        evaluation = MTEB(tasks=[task], task_langs=[\"en\"])\n",
    "        evaluation.run(model, output_folder=f\"results_pca/{ndims}/{model_name}\", eval_splits= [\"test\"])\n",
    "    \n",
    "    if os.path.exists(f\"results_pca/{ndims}/{model_name}\"):\n",
    "        script_logger.info(\"Converting the results to a CSV file...\")\n",
    "        convert_to_csv(f\"results_pca/{ndims}/{model_name}\")\n",
    "    \n",
    "    script_logger.info(\"-- DONE --\")\n",
    "    logging.shutdown()\n",
    "\n",
    "def evaluate_models(ndims):\n",
    "    print(f\"Num models to be evaluated: {len(MODELS)}\")\n",
    "    for model_name in MODELS:\n",
    "        evaluate_model(model_name, ndims)"
   ]
  },
  {
   "cell_type": "code",
   "execution_count": null,
   "metadata": {},
   "outputs": [],
   "source": [
    "ndims_list = os.listdir('data_pca')\n",
    "ndims_list.remove(\".git\")\n",
    "ndims_list.remove(\"push.sh\")"
   ]
  },
  {
   "cell_type": "code",
   "execution_count": null,
   "metadata": {},
   "outputs": [],
   "source": [
    "for ndims in ndims_list:\n",
    "    evaluate_models(ndims)"
   ]
  },
  {
   "cell_type": "code",
   "execution_count": null,
   "metadata": {},
   "outputs": [],
   "source": []
  }
 ],
 "metadata": {
  "kernelspec": {
   "display_name": "SNLP",
   "language": "python",
   "name": "python3"
  },
  "language_info": {
   "codemirror_mode": {
    "name": "ipython",
    "version": 3
   },
   "file_extension": ".py",
   "mimetype": "text/x-python",
   "name": "python",
   "nbconvert_exporter": "python",
   "pygments_lexer": "ipython3",
   "version": "3.12.2"
  }
 },
 "nbformat": 4,
 "nbformat_minor": 2
}
